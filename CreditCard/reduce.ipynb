{
 "cells": [
  {
   "cell_type": "code",
   "execution_count": null,
   "metadata": {},
   "outputs": [],
   "source": [
    "import sys\n",
    "\n",
    "for line in sys.stdin:\n",
    "    (key, value) = line.strip().split(\"\\t\")\n",
    "\n",
    "    value = int(value)  # Assuming the value is an integer\n",
    "\n",
    "\n",
    "    if last_key and last_key != key:\n",
    "\n",
    "        print(\"%s\\t%s\" % (last_key, total_sum))\n",
    "\n",
    "        (last_key, total_sum) = (key, value)\n",
    "\n",
    "    else:\n",
    "\n",
    "        (last_key, total_sum) = (key, total_sum + value)\n",
    "\n",
    " \n",
    "\n",
    "if last_key:\n",
    "\n",
    "    print(\"%s\\t%s\" % (last_key, total_sum))\n"
   ]
  }
 ],
 "metadata": {
  "kernelspec": {
   "display_name": "base",
   "language": "python",
   "name": "python3"
  },
  "language_info": {
   "name": "python",
   "version": "3.9.12"
  },
  "orig_nbformat": 4
 },
 "nbformat": 4,
 "nbformat_minor": 2
}
